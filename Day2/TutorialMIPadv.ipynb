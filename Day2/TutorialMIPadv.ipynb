{
 "cells": [
  {
   "cell_type": "markdown",
   "metadata": {},
   "source": [
    "## Tutorial: Advanced MIP Modelling\n",
    "\n",
    "Following up on yesterday's sessions on the basics of MIP modelling, in this tutorial we will extend the use of the FICO Xpress and SCIP Python interfaces to more advanced techniques including modelling non-linear problems and the use of controls and callbacks for modifying the behaviour of the solver.\n",
    "\n",
    "Instructions:\n",
    "- the tutorial is hands-on, with text descriptions, mathematical formulations, and code snippets shown along the notebook to be analyzed, run and understood. \n",
    "- it is divided in 3 parts, which will be solved using the FICO Xpress Python interface. Part 3S, at the end of the notebook, correspond to the first two parts but using the SCIP Python interface.\n",
    "  - you are expected to solve, in class, the assignments marked as **EXERCISE**.\n",
    "\n",
    "Software requirements:\n",
    "- if running in cloud (recommended):\n",
    "  - https://github.com/features/codespaces (recommended)\n",
    "  - https://colab.research.google.com/\n",
    "  - (no Python installation needed, but you need to install \"xpress\", \"PySCIPOpt\" packages, and other packages in the remote machine by running \"!pip install [module]\" - see first code cell)\n",
    "    - other Python packages needed for this tutorial: matplotlib, networkx, itertools\n",
    "- if run locally (if you are an expert user):\n",
    "  - your favorite IDE that supports Interactive Python Notebooks, such as VS Code, PyCharm, or Jupyter notebook\n",
    "  - Python installation >= 3.9\n",
    "  - Xpress package >= 9.4\n",
    "  - PySCIPOpt package >= 5.1\n",
    "  - other Python packages needed for this tutorial: matplotlib, networkx, itertools\n",
    "\n",
    "Examples and documentation:\n",
    "* Check the [Xpress Python API reference manual](https://www.fico.com/fico-xpress-optimization/docs/latest/solver/optimizer/python/HTML) and the [Xpress Python examples](https://www.fico.com/fico-xpress-optimization/docs/latest/solver/optimizer/python/HTML/chExamples.html) online, and find a PDF with training slides named \"xpress_python_api.pdf\" in the GitHub repo.\n",
    "* SCIP Python interface: https://github.com/scipopt/PySCIPOpt\n",
    "\n",
    "Licensing guidelines:\n",
    "- FICO Xpress Optimizer requires a full license for some of the exercises. You will receive a license file via e-mail, which you should upload into the root directory of your GitHub codespace.\n",
    "  - an environment variable named XPAUTH_PATH must be set to (the path to) the license file \"xpauth.xpr\" (automatically done in Codespaces, see code cell below for Colab)\n",
    "  - <span style=\"color:red\">the provided license must only be used for the purposes of the co@work summer school</span>. Please join the [FICO Academic Partner Program](https://community.fico.com/s/academic-programs) to access full licenses of Xpress free of charge"
   ]
  },
  {
   "cell_type": "code",
   "execution_count": null,
   "metadata": {},
   "outputs": [],
   "source": [
    "# Install Python packages (if running in cloud)\n",
    "!pip install xpress PySCIPopt matplotlib networkx        # NumPy is installed along with xpress\n",
    "\n",
    "# If working in Google Colab, uncomment the following lines to set an environment XPAUTH_PATH variable to the license file (assumes the license file is in the same working directory as the notebook)\n",
    "# import os\n",
    "# os.environ['XPAUTH_PATH'] = 'xpauth.xpr'"
   ]
  },
  {
   "cell_type": "code",
   "execution_count": null,
   "metadata": {},
   "outputs": [],
   "source": [
    "# To disable warnings regarding the Xpress license, run this code cell\n",
    "import xpress as xp\n",
    "import warnings\n",
    "warnings.simplefilter('ignore', xp.LicenseWarning)"
   ]
  },
  {
   "cell_type": "markdown",
   "metadata": {},
   "source": [
    "### Part 1 - Modeling non-linear functions as general constraints in MIP problems"
   ]
  },
  {
   "cell_type": "markdown",
   "metadata": {},
   "source": [
    "The Xpress Optimizer allows for modeling specific non-linear functions so that they are automatically reformulated within a Mixed Integer format. These functions are:\n",
    "\n",
    "* The absolute value of a function, e.g. $|x|$.\n",
    "* The maximum and minimum of a list of functions, e.g. $\\max(x+1, 2y-2,...)$.\n",
    "* The logical And and Or operators (only work on binary variables) on a set of functions, for example $(x \\wedge y) \\vee z$.\n",
    "\n",
    "The Xpress Python interface allows for natural modeling of these functions by using the operators `xpress.abs`, `xpress.max`, `xpress.min`, `xpress.And`, `xpress.Or`, and the binary Python operators `&` and `|`:\n",
    "* `xp.abs(2*x-4)` for the expression $|2x-4|$.\n",
    "* `xp.min(x1, x2, 2*x3-1)` for the expression $\\min(x_1, x_2, 2x_3-1)$, and similar for the maximum.\n",
    "* `xp.And(y1, y2, y3, 1-y4)` for the logical AND operators between the binary variables $y_1$, $y_2$, $y_3$, and the negation of $y_4$, which can be modeled as $1-y_4$ as it is 0 when $y_4=1$ and viceversa, functioning therefore as a negation operator. Another possibility would be to model it in Python as `y1 & y2 & y3 & (1-y4)`. The same logic applies for `xp.Or` and the Python `|` operator.\n",
    "\n",
    "Let's see an example of this for the following non-linear problem:\n",
    "\n",
    "$$\n",
    "\\begin{array}{ll}\n",
    "\\min & |x-y| + 2.\\hbox{max}(2x + 4, 3y + 2x)\\\\\n",
    "\\textrm{s.t.} & x+2y \\geq 20 \\\\\n",
    "& x+3y \\leq 25\n",
    "\\end{array}\n",
    "$$"
   ]
  },
  {
   "cell_type": "code",
   "execution_count": null,
   "metadata": {},
   "outputs": [],
   "source": [
    "# FICO Xpress Optimizer - Python Interface\n",
    "\n",
    "import xpress as xp\n",
    "\n",
    "p = xp.problem()\n",
    "\n",
    "x = p.addVariable()\n",
    "y = p.addVariable()\n",
    "\n",
    "p.setObjective(xp.abs(x-y) + 2 * xp.max(2*x + 4, 3*y + 2*x))\n",
    "\n",
    "p.addConstraint(x+2*y >= 20, x+3*y <= 25)\n",
    "\n",
    "p.optimize()\n",
    "\n",
    "print(p.getSolution(x), p.getSolution(y))"
   ]
  },
  {
   "cell_type": "markdown",
   "metadata": {},
   "source": [
    "As you can observe in the solver logs, the problem has been reformulated as a MIP, and solved by the Xpress MIP Optimizer."
   ]
  },
  {
   "cell_type": "markdown",
   "metadata": {},
   "source": [
    "##### MIP reformulation of $|x|$  and AND/OR\n"
   ]
  },
  {
   "cell_type": "markdown",
   "metadata": {},
   "source": [
    "\n",
    "Below is how we would have to model the constraint $z = |x-y|$ if we did not have the `xp.abs` function within Xpress. We would have to introduce a binary variable $w$ and writing the following constraints, two of which are indicator constraints:\n",
    "\n",
    "$$\n",
    "\\begin{array}{lll}\n",
    "z \\ge x-y\\\\\n",
    "z \\ge y-x\\\\\n",
    "w = 1 \\Rightarrow z \\le x-y\\\\\n",
    "w = 0 \\Rightarrow z \\le y-x\\\\\n",
    "w \\in \\{0,1\\}\n",
    "\\end{array}\n",
    "$$"
   ]
  },
  {
   "cell_type": "markdown",
   "metadata": {},
   "source": [
    "AND/OR operators do not require extra variables: for an operation $z = x \\wedge y$, with $x$ and $y$ binary variables, one can write:\n",
    "\n",
    "$$\n",
    "\\begin{array}{l}\n",
    "z \\le x\\\\\n",
    "z \\le y\\\\\n",
    "z \\ge x + y - 1\n",
    "\\end{array}\n",
    "$$\n",
    "\n",
    "and similarly for an operation $z = x \\vee y$:\n",
    "\n",
    "$$\n",
    "\\begin{array}{l}\n",
    "z \\ge x\\\\\n",
    "z \\ge y\\\\\n",
    "z \\le x + y\n",
    "\\end{array}\n",
    "$$"
   ]
  },
  {
   "cell_type": "markdown",
   "metadata": {},
   "source": [
    "**EXERCISE 1**: Implement the model with a logical constraint below (using either Xpress or Python native operators), solve it and print the optimal solution vector:\n",
    "$$\n",
    "\\min \\sum_{i \\in \\mathcal{Z}} z_i\n",
    "$$\n",
    "\n",
    "subject to:\n",
    "\n",
    "$$\n",
    "(x \\wedge z_0) + x \\wedge y \\wedge (z_1 \\vee z_2 \\vee z_3) = 1 \\\\\n",
    "x, y, z_i \\in \\{0,1\\}, \\quad \\forall i \\in \\mathcal{Z}\n",
    "$$\n",
    "\n",
    "with $\\mathcal{Z} = \\{0,...,3\\}$."
   ]
  },
  {
   "cell_type": "code",
   "execution_count": null,
   "metadata": {},
   "outputs": [],
   "source": [
    "# FICO Xpress Optimizer - Python Interface (solution)\n"
   ]
  },
  {
   "cell_type": "markdown",
   "metadata": {},
   "source": [
    "### Part 2 - Tuning and solving a MIP from MIPLIB using solver controls and attributes"
   ]
  },
  {
   "cell_type": "markdown",
   "metadata": {},
   "source": [
    "Let's move on to solving larger instances, like a problem instance from the [MIPLIB 2017 collection](https://miplib.zib.de/tag_collection.html). Specifically, [roi2alpha3n4](https://miplib.zib.de/instance_details_roi2alpha3n4.html). \n",
    "\n",
    "*Please download the instance file by clicking on [roi2alpha3n4.mps.gz](https://miplib.zib.de/WebData/instances/roi2alpha3n4.mps.gz) and move the file into the working directory of this notebook*.\n",
    "\n",
    "Run the code cell below to have the Xpress Optimizer solve the problem."
   ]
  },
  {
   "cell_type": "code",
   "execution_count": null,
   "metadata": {},
   "outputs": [],
   "source": [
    "# FICO Xpress Optimizer - Python Interface\n",
    "\n",
    "import xpress as xp\n",
    "\n",
    "filename = 'roi2alpha3n4.mps.gz'\n",
    "\n",
    "p = xp.problem()\n",
    "\n",
    "p.read(filename)\n",
    "\n",
    "p.controls.timelimit = 30       # set time limit, in seconds\n",
    "\n",
    "p.optimize()"
   ]
  },
  {
   "cell_type": "markdown",
   "metadata": {},
   "source": [
    "More than 320 [control parameters](https://www.fico.com/fico-xpress-optimization/docs/latest/solver/optimizer/HTML/chapter7.html) and 140 [problem attributes](https://www.fico.com/fico-xpress-optimization/docs/latest/solver/optimizer/HTML/chapter8.html) exist within the Xpress Optimizer to govern the solution procedure and query problem features, respectively. \n",
    "\n",
    "A **control** is a parameter that can influence the behavior (and therefore the performance) of the Xpress Optimizer:\n",
    "  - for example: the MIP gap target, the feasibility tolerance, or the type of root LP algorithms are controls that can be defined by the user\n",
    "  - although the default control values have been found to work well in practice over a range of problems, they may be tuned to enhance performance of the Optimizer for a specific problem \n",
    "  - problem controls can both be read from and written to an optimization problem. The majority of these take integer values and act as switches between various types of behavior\n",
    "  \n",
    "An **attribute** is a feature of an optimization problem, such as the number of rows and columns or the number of quadratic elements in the objective function:\n",
    "  - they are read-only parameters, i.e. their value cannot be directly modified by the user\n",
    "  - helpful to query the solve and solution statuses of a run, print the objective value or the time spent solving instead of analyzing solver logs\n",
    "\n",
    "Examples of problem controls that **impact the stopping criteria** includes:\n",
    "- [Time limit](https://www.fico.com/fico-xpress-optimization/docs/latest/solver/optimizer/HTML/TIMELIMIT.html): The maximum time in seconds that the Optimizer will run before it terminates, including the problem setup time and solution time.\n",
    "- [Solution time limit](https://www.fico.com/fico-xpress-optimization/docs/latest/solver/optimizer/HTML/SOLTIMELIMIT.html): The maximum time in seconds that the Optimizer will run a MIP solve before it terminates, given that a solution has been found. As long as no solution has been found, this control will have no effect.\n",
    "- [Relative optimality gap tolerance](https://www.fico.com/fico-xpress-optimization/docs/latest/solver/optimizer/HTML/MIPRELSTOP.html): This determines when the branch and bound tree search will terminate. For example, to stop the tree search when a MIP solution has been found and the Optimizer can guarantee it is within 5% of the optimal solution, set MIPRELSTOP to 0.05.\n",
    "- [Absolute optimality gap tolerance](https://www.fico.com/fico-xpress-optimization/docs/latest/solver/optimizer/HTML/MIPABSSTOP.html): The absolute tolerance determining whether the tree search will continue or not. For example, to stop the tree search when a MIP solution has been found and the Optimizer can guarantee it is within 100 of the optimal solution, set MIPABSSTOP to 100.\n",
    "\n",
    "**EXERCISE 2.1**: Run the code cell below and identify which stopping criteria triggered the end of the optimization procedure by analyzing the output generated by the querying of problem attributes. Then set different values for the other controls to have them stop the optimization as well.\n",
    "\n",
    "<i>Note that there is solver control that allows you to turn off output logs.</i>"
   ]
  },
  {
   "cell_type": "code",
   "execution_count": null,
   "metadata": {},
   "outputs": [],
   "source": [
    "# FICO Xpress Optimizer - Python Interface\n",
    "\n",
    "import xpress as xp\n",
    "\n",
    "p = xp.problem()\n",
    "\n",
    "p.read(filename)\n",
    "\n",
    "# Controls that impact the stopping criteria\n",
    "p.controls.timelimit = 40       # set time limit, in seconds, regardless of whether a solution has been found\n",
    "p.controls.soltimelimit = 30    # set time limit, in seconds, given that a solution has been found\n",
    "p.controls.miprelstop = 0.1    # relative optimality gap tolerance\n",
    "p.controls.mipabsstop = 0.25     # absoute optimality gap tolerance\n",
    "\n",
    "# p.controls.outputlog = 0        # turn off logging from Xpress\n",
    "\n",
    "p.optimize()\n",
    "\n",
    "# Query and print problem attributes\n",
    "print(\"\\nSolve status: \", p.attributes.solvestatus.name)            # UNSTARTED, STOPPED, FAILED, or COMPLETED\n",
    "print(\"Solution status: \", p.attributes.solstatus.name)             # NOTFOUND, OPTIMAL, FEASIBLE, INFEASIBLE, or UNBOUNDED\n",
    "print(\"The problem has\", p.attributes.rows, \"rows and\", p.attributes.cols, \"columns\")\n",
    "\n",
    "print(\"Objective value:\", round(p.attributes.objval,2))\n",
    "print(\"Time spent:\", p.attributes.time, \" sec.\")\n",
    "print(\"Primal-dual integral:\", round(p.attributes.primaldualintegral,2))\n",
    "print(\"Number of nodes solved:\", p.attributes.nodes)"
   ]
  },
  {
   "cell_type": "markdown",
   "metadata": {},
   "source": [
    "\n",
    "A few of the wide range of problem controls that **can have an impact on the solver performance** are:\n",
    "\n",
    "- [Cut strategy](https://www.fico.com/fico-xpress-optimization/docs/latest/solver/optimizer/HTML/CUTSTRATEGY.html): This specifies the cut strategy. A more aggressive cut strategy, generating a greater number of cuts, will result in fewer nodes to be explored, but with an associated time cost in generating the cuts.\n",
    "- [Heuristic emphasis](https://www.fico.com/fico-xpress-optimization/docs/latest/solver/optimizer/HTML/HEUREMPHASIS.html): This control specifies an emphasis for the search w.r.t. primal heuristics and other procedures that affect the speed of convergence of the primal-dual gap. This setting triggers many additional heuristic calls, aiming for reducing the gap at the beginning of the search, typically at the expense of an increased time for proving optimality.\n",
    "- [Presolve](https://www.fico.com/fico-xpress-optimization/docs/latest/solver/optimizer/HTML/PRESOLVE.html): This control determines whether presolving should be performed prior to starting the main algorithm. Presolve attempts to simplify the problem by detecting and removing redundant constraints, tightening variable bounds, etc. In some cases, infeasibility may even be determined at this stage, or the optimal solution found.\n",
    "- [Symmetry](https://www.fico.com/fico-xpress-optimization/docs/latest/solver/optimizer/HTML/SYMMETRY.html): Adjusts the overall amount of effort for symmetry detection.\n",
    "- [Heuristic search effort](https://www.fico.com/fico-xpress-optimization/docs/latest/solver/optimizer/HTML/HEURSEARCHEFFORT.html): Adjusts the overall effort level spent by local search heuristics."
   ]
  },
  {
   "cell_type": "markdown",
   "metadata": {},
   "source": [
    "**EXERCISE 2.2**: Experiment with the values of the solver controls in the TO DO section below and try to find a configuration (combination of control values) that improves the performance of the solver for a time limit of 30 seconds, comparing to the previous run (default values), **in at least one of the following metrics to be minimized**:\n",
    "1) the relative optimality gap at the end of the run\n",
    "2) [primal-dual integral](https://www.fico.com/fico-xpress-optimization/docs/latest/solver/optimizer/HTML/PRIMALDUALINTEGRAL.html)\n",
    "3) [number of nodes](https://www.fico.com/fico-xpress-optimization/docs/latest/solver/optimizer/HTML/NODES.html) explored by the B&B process"
   ]
  },
  {
   "cell_type": "code",
   "execution_count": null,
   "metadata": {},
   "outputs": [],
   "source": [
    "# FICO Xpress Optimizer - Python Interface\n",
    "\n",
    "import xpress as xp\n",
    "\n",
    "p = xp.problem()\n",
    "\n",
    "p.read(filename)\n",
    "\n",
    "# Controls that impact the solver performance\n",
    "# TO DO: experiment with the controls below and find a configuration that beats the default values (previous run)\n",
    "p.controls.cutstrategy = -1     # integer, default -1\n",
    "p.controls.heuremphasis = -1    # integer, default -1\n",
    "p.controls.presolve = 1         # integer, default 1\n",
    "p.controls.symmetry = 1         # integer, default 1\n",
    "p.controls.heursearcheffort = 1 # double, default 1\n",
    "\n",
    "p.controls.soltimelimit = 30\n",
    "\n",
    "p.optimize()\n",
    "\n",
    "# Query and print problem attributes\n",
    "print(\"\\nSolve status: \", p.attributes.solvestatus.name)            # UNSTARTED, STOPPED, FAILED, or COMPLETED\n",
    "print(\"Solution status: \", p.attributes.solstatus.name)             # NOTFOUND, OPTIMAL, FEASIBLE, INFEASIBLE, or UNBOUNDED\n",
    "print(\"The problem has\", p.attributes.rows, \"rows and\", p.attributes.cols, \"columns\")\n",
    "\n",
    "print(\"Objective value:\", round(p.attributes.objval,2))\n",
    "print(\"Time spent:\", p.attributes.time, \" sec.\")\n",
    "print(\"Primal-dual integral:\", round(p.attributes.primaldualintegral,2))\n",
    "print(\"Number of nodes solved:\", p.attributes.nodes)\n"
   ]
  },
  {
   "cell_type": "markdown",
   "metadata": {},
   "source": [
    "### Coffee break"
   ]
  },
  {
   "cell_type": "markdown",
   "metadata": {},
   "source": [
    "### Part 3 - Advanced techniques for solving the TSP (Xpress)"
   ]
  },
  {
   "cell_type": "markdown",
   "metadata": {},
   "source": [
    "In this last part, we will solve the [Traveling Salesman Problem](https://en.wikipedia.org/wiki/Travelling_salesman_problem) using different modeling techniques.\n",
    "\n",
    "<i>Note that this is just an academic exercise done for demonstration purposes, with no intention to propose or claim new solution methods for solving the TSP. Moreover, we refer to the state-of-the-art solver for the TSP and other related problems [Concorde TSP solver](https://www.math.uwaterloo.ca/tsp/concorde.html).</i>"
   ]
  },
  {
   "cell_type": "markdown",
   "metadata": {},
   "source": [
    "##### Standard formulation"
   ]
  },
  {
   "cell_type": "markdown",
   "metadata": {},
   "source": [
    "\n",
    "Let's start with the standard formulation, where $x_{ij} \\in \\{0,1\\}, \\forall i,j \\in \\mathcal{N}$ represents if the tour uses the edge $(i,j)$ (i.e. if we go from city $i$ to $j$) in the final solution. An optimal tour can be found by solving:\n",
    "$$\n",
    "\\min \\sum_{i,j \\in \\mathcal{N}} c_{ij} x_{ij}\n",
    "$$\n",
    "\n",
    "subject to:\n",
    "\n",
    "* We have to enter and leave every city, and source node cannot be the same as the destination node: \n",
    "$$\n",
    "\\sum_{j \\in \\mathcal{N}} x_{ij} = 1, \\quad \\forall i \\in \\mathcal{N} \\\\\n",
    "\\sum_{j \\in \\mathcal{N}} x_{ji} = 1, \\quad \\forall i \\in \\mathcal{N} \\\\\n",
    "x_{ii} = 0, \\quad \\forall i \\in \\mathcal{N}\n",
    "$$\n",
    "\n",
    "We overlook subtour elimination constraints for now."
   ]
  },
  {
   "cell_type": "code",
   "execution_count": null,
   "metadata": {},
   "outputs": [],
   "source": [
    "# FICO Xpress Optimizer - Python Interface\n",
    "\n",
    "import xpress as xp\n",
    "import numpy as np\n",
    "\n",
    "'''Create random TSP problem data'''\n",
    "n = 17\n",
    "CITIES = range(n)  # set of cities: 0..n-1\n",
    "\n",
    "np.random.seed(0)\n",
    "\n",
    "X = 100 * np.random.rand(n)\n",
    "Y = 100 * np.random.rand(n)\n",
    "\n",
    "XY = (X, Y)\n",
    "\n",
    "# Compute distance matrix\n",
    "dist = np.ceil(np.sqrt ((X.reshape(n,1) - X.reshape(1,n))**2 +\n",
    "                        (Y.reshape(n,1) - Y.reshape(1,n))**2))\n",
    "\n",
    "# Create problem\n",
    "p = xp.problem()\n",
    "\n",
    "# Create variables as a square matrix of binary variables. Note\n",
    "# the use of p.addVariables to ensure NumPy uses the Xpress operations for handling these vectors.\n",
    "x = p.addVariables(n,n, vartype=xp.binary, name='x')\n",
    "\n",
    "# Degree constraints\n",
    "p.addConstraint(xp.Sum(x[i,:]) == 1  for i in CITIES)\n",
    "p.addConstraint(xp.Sum(x[:,i]) == 1  for i in CITIES)\n",
    "\n",
    "# Fix diagonals (i.e. city X -> city X) to zero\n",
    "p.addConstraint(x[i,i] == 0 for i in CITIES)\n",
    "\n",
    "# Objective function\n",
    "p.setObjective (xp.Sum((dist * x).flatten()))\n",
    "\n",
    "p.optimize()"
   ]
  },
  {
   "cell_type": "markdown",
   "metadata": {},
   "source": [
    "Now let's use matplotlib and networkx to visualize the solution for the Xpress interface and check if there are any subtours:"
   ]
  },
  {
   "cell_type": "code",
   "execution_count": null,
   "metadata": {},
   "outputs": [],
   "source": [
    "# Visualize solution using networkx and matplotlib\n",
    "import networkx as nx \n",
    "import matplotlib.pyplot as plt\n",
    "import itertools\n",
    "\n",
    "def plot_sol(p):\n",
    "\n",
    "    # collect the edges: if the value of x[i,j] is 1, then the edge (i,j) is in the solution\n",
    "    edges = []\n",
    "    for (i,j) in itertools.permutations(CITIES, 2):\n",
    "        if p.getSolution(x[i,j]) > 0.5: # variable is binary so > 0.5 --> is 1\n",
    "            edges.append( (i,j) )\n",
    "\n",
    "    # create dictionary with coordinates for each node to plot the graph \n",
    "    xy = {}\n",
    "    for i in range(n):\n",
    "        xy[i] = (X[i], Y[i])\n",
    "\n",
    "    # make figure look nicer\n",
    "    plt.figure(figsize=(10,6), dpi=100)\n",
    "\n",
    "    # create empty graph\n",
    "    optgraph = nx.Graph()\n",
    "\n",
    "    # add edges\n",
    "    optgraph.add_edges_from(edges)\n",
    "\n",
    "    # draw the nodes, with labels in the position xy (see when we read the instance)\n",
    "    nx.draw(optgraph, node_size=300, pos=xy, with_labels=True, node_color='lightblue')\n",
    "\n",
    "    # show drawing\n",
    "    plt.show()\n",
    "\n",
    "# Plot solution\n",
    "if p.attributes.solstatus not in [xp.SolStatus.OPTIMAL, xp.SolStatus.FEASIBLE]:\n",
    "    print(\"Solve status:\", p.attributes.solvestatus.name)\n",
    "    print(\"Solution status:\", p.attributes.solstatus.name)\n",
    "else:\n",
    "    plot_sol(p)"
   ]
  },
  {
   "cell_type": "markdown",
   "metadata": {},
   "source": [
    "As you can see, the solution contains subtours, and therefore it is not a valid solution for problem yet. We need to add subtour elimination constraints, that is, prevent each and every possible subtour from ocurring.\n",
    "\n",
    "**EXERCISE 3.1**: Add the following subtour elimination constraints to the problem, solve it and plot the solution:\n",
    "\n",
    "$$\n",
    "\\sum_{i,j \\in S} x_{ij} \\leq |S| - 1 \\quad \\forall S \\subsetneq N,\\ |S| \\geq 2\n",
    "$$"
   ]
  },
  {
   "cell_type": "code",
   "execution_count": null,
   "metadata": {},
   "outputs": [],
   "source": [
    "# FICO Xpress Optimizer - Python Interface (solution)\n",
    "\n"
   ]
  },
  {
   "cell_type": "markdown",
   "metadata": {},
   "source": [
    "The solution is now valid and complete, since an Hamiltonian tour (no subtours) has been formed. However, you could experience that the problem building and solving times are rather high for a TSP with only 17 cities.\n",
    "\n",
    "This is due to the complete enumeration of all possible subtours, whose number grows exponentially with the instance size making the problem creation and solving times lengthy when problems become realistically large."
   ]
  },
  {
   "cell_type": "markdown",
   "metadata": {},
   "source": [
    "##### Formulation using the Miller, Tucker, Zemlin subtour elimination constraints"
   ]
  },
  {
   "cell_type": "markdown",
   "metadata": {},
   "source": [
    "Now we will model the same problem but using the Miller, Tucker, Zemlin subtour elimination constraints, which requires a new set of continuous variables:\n",
    "\n",
    "$t_i$ = step at which node $i$ is visited, $\\forall i = {1,...,|\\mathcal{N}|}$\n",
    "\n",
    "which are used as auxiliary variables for the formulation of subtour elimination constraints. Although a new set of real variables of size $|\\mathcal{N}|$ is introduced, we are able to prevent all subtours by introducing a set of constraints of size $(|\\mathcal{N}|-1)^2$, considerably reducing the problem size and complexity when comparing with the previous formulation:\n",
    "\n",
    "$$\n",
    "\\min \\sum_{i,j \\in \\mathcal{N}} c_{ij} x_{ij}\n",
    "$$\n",
    "\n",
    "subject to:\n",
    "\n",
    "* We have to enter and leave every city, and source node cannot be the destination node for any move: \n",
    "$$\n",
    "\\sum_{j \\in \\mathcal{N}} x_{ij} = 1, \\quad \\forall i \\in \\mathcal{N} \\\\\n",
    "\\sum_{j \\in \\mathcal{N}} x_{ji} = 1, \\quad \\forall i \\in \\mathcal{N} \\\\\n",
    "x_{ii} = 0, \\quad \\forall i \\in \\mathcal{N}\n",
    "$$\n",
    "* Miller, Tucker, Zemlin subtour elimination constraints:\n",
    "$$\n",
    "t_j \\geq t_i + 1 - (n-1)*(1 - x_{ij}), \\forall i,j = {1,...,|\\mathcal{N}|}\n",
    "$$\n",
    "\n",
    "with $n = |\\mathcal{N}|$.\n",
    "\n",
    "**EXERCISE 3.2**: Adjust the previous model to represent the Miller, Tucker, Zemlin formulation of the TSP"
   ]
  },
  {
   "cell_type": "code",
   "execution_count": null,
   "metadata": {},
   "outputs": [],
   "source": [
    "# FICO Xpress Optimizer - Python Interface (solution)\n"
   ]
  },
  {
   "cell_type": "markdown",
   "metadata": {},
   "source": [
    "As you can confirm by the graph and solver logs, this formulation yields the same solution as the previous one, but solves the problem much faster. Let's try to beat that in the next section!"
   ]
  },
  {
   "cell_type": "markdown",
   "metadata": {},
   "source": [
    "##### Using callbacks"
   ]
  },
  {
   "cell_type": "markdown",
   "metadata": {},
   "source": [
    "Now let's try to speed up the problem creation and solving times even more by using **solver callbacks** to add only those subtour elimination constraints that are really needed during the solving process using the standard formulation.\n",
    "\n",
    "Callback functions are user–defined routines to be specified to the Optimizer which should be called at various stages during the optimization process, prompting the Optimizer to return to the user's program before continuing with the solution algorithm. They are a useful tool particularly for Mixed Integer Programming (MIP) problems by allowing the user to \"interact\" with the solver during the solution search process (Branch-and-Bound). \n",
    "\n",
    "[Using callback functions](https://www.fico.com/fico-xpress-optimization/docs/latest/solver/optimizer/python/HTML/chCallbacks.html) is simple: \n",
    "  * the user first defines a function (say *myfunction*) that is to be run every time the branch-and-bound reaches a well-specified point\n",
    "  * secondly, the user calls a function (such as [problem.addcbpreintsol](https://www.fico.com/fico-xpress-optimization/docs/latest/solver/optimizer/python/HTML/problem.addcbpreintsol.html)) with *myfunction* as its argument\n",
    "  * finally, the user runs the optimize command that launches the branch-and-bound, the simplex solver, or the barrier solver; it is while these are run that myfunction is called at the intended points (depending on the selected callback type, check the [list of callbacks accepted by the Xpress Optimizer](https://www.fico.com/fico-xpress-optimization/docs/latest/solver/optimizer/HTML/chapter5.html?scroll=section5002))\n",
    "\n",
    "In our TSP exercise, we will relax (leave out) the subtour elimination constraints, and instead add a callback funtion that is triggered every time an integer (feasible) solution to the relaxed problem is found during the B&B process by using the [problem.addcbpreintsol](https://www.fico.com/fico-xpress-optimization/docs/latest/solver/optimizer/python/HTML/problem.addcbpreintsol.html) solver callback, instructing the solver whether to accept (if no subtours) or discard (subtours exist) the solution found, and add the corresponding subtour elimination constraints to the problem in the latter case. Therefore, the user-defined callback function needs to perform two main tasks:\n",
    "  * checking whether a given solution forms a Hamiltonian tour\n",
    "  * separating subtour elimination constraints from the current node solution\n",
    "\n",
    "**EXERCISE 3.3**: analyze and understand the callback function below, and complete the \"TO DO\" section on the bottom by calling the function [problem.addcuts](https://www.fico.com/fico-xpress-optimization/docs/dms2024-03/solver/optimizer/python/HTML/problem.addcuts.html) with the appropriate arguments. You will need to run the subsequent cell to check whether the callback function works properly or not.\n"
   ]
  },
  {
   "cell_type": "code",
   "execution_count": 55,
   "metadata": {},
   "outputs": [],
   "source": [
    "# FICO Xpress Optimizer - Python Interface\n",
    "\n",
    "# Define callback function\n",
    "def cb_preintsol(prob, data, soltype, cutoff):\n",
    "    '''Callback for checking if solution is acceptable\n",
    "    prob: Xpress problem object = TSP model without subtour elimination\n",
    "    data: data object = number of cities\n",
    "    soltype: type of MIP solution that has been found. 0 - LP relaxation is integer feasible, 1 - MIP solution found by a heuristic, 2 - MIP solution provided by the user\n",
    "    '''\n",
    "\n",
    "    n = data                             # number of cities\n",
    "    xsol=[]                              # array to store integer solution found by heuristics or during the branch and bound search\n",
    "    prob.getlpsol(x=xsol)                # get array with values of x variables in the current solution\n",
    "    xsol = np.array(xsol).reshape(n,n)   # convert into matrix-shaped np array\n",
    "    tour = np.argmax(xsol, axis=1)       # get indices of the max (non-zero) element in each column = resulting tour\n",
    "\n",
    "    i = 0       # to store next city\n",
    "    ncities = 1 # to count number of cities visited\n",
    "\n",
    "    # Scan cities in order until we get back to 0 or the solution is wrong. \n",
    "    while tour[i] != 0 and ncities < n:\n",
    "        ncities += 1\n",
    "        i = tour[i]\n",
    "\n",
    "    reject = False # at this point do not reject the solution\n",
    "    if ncities < n:\n",
    "        # The tour given by the current solution does not pass through\n",
    "        # all the nodes and thus contains subtours.\n",
    "        # If soltype is non-zero, the solution was found by a heuristic\n",
    "        # or provided by the user, se we reject by setting reject=True without further branching.\n",
    "        # If instead soltype is zero, the solution came from the LP relaxation  \n",
    "        # of the current B&B node which was found to be integer feasible. In this case \n",
    "        # we will reject but by adding a cut that cuts off that solution.\n",
    "        # Note that we must NOT set reject=True in that case because that would result in just\n",
    "        # dropping the node, no matter whether we add cuts or not.\n",
    "        if soltype != 0:\n",
    "            reject = True\n",
    "        else:\n",
    "            # Obtain an order by checking the maximum of the variable matrix\n",
    "            # for each row\n",
    "            unchecked = np.zeros(n) # np array of zeros of size n to assign each city to a subtour\n",
    "            nsubtour = 0            # to number and identify subtours\n",
    "\n",
    "            # Initialize the vectors to be passed to problem.addcuts\n",
    "            cut_mstart = [0]\n",
    "            cut_ind = []\n",
    "            cut_coe = []\n",
    "            cut_rhs = []\n",
    "\n",
    "            nnz = 0   # to mark the start of the variables indices for each cut\n",
    "            ncuts = 0 # to count number of cuts (subtours)\n",
    "\n",
    "            # while there are cities that are not assigned to a subtour\n",
    "            while np.min(unchecked) == 0:\n",
    "                nsubtour += 1                    # current subtour id\n",
    "                firstcity = np.argmin(unchecked) # first city (index) in unchecked that is not assigned a subtour yet (i.e., =0)\n",
    "                i = firstcity \n",
    "\n",
    "                # Scan cities in order for each subtour\n",
    "                while True:\n",
    "                    unchecked[i] = nsubtour  # mark city i as belonging to current subtour\n",
    "                    i = tour[i]              # proceed to next city in the current subtour\n",
    "\n",
    "                    if i == firstcity:       # if next city is the first city, subtour is finished, stop\n",
    "                        break\n",
    "\n",
    "                # Find indices of all variables with origin in this subtour and destination\n",
    "                # outside this subtour. We will force the sum of those variables to be >= 1 \n",
    "                # (i.e. subtour will be constrained after the cut is added). S is the set of nodes\n",
    "                # traversed by the subtour, compS is its complement (list of nodes without S)\n",
    "                S     = np.where(unchecked == nsubtour)[0].tolist()\n",
    "                compS = np.where(unchecked != nsubtour)[0].tolist()\n",
    "                indices = [i*n+j for i in S for j in compS] # convert into decision variables array indices\n",
    "\n",
    "                # We need to presolve new row to get data for addcuts later (presolved problem)\n",
    "                mcolsp, dvalp = [], [] # lists to be populated by the 'presolverow' method\n",
    "\n",
    "                # Presolve new row (cut) in order to add it to the presolved problem via addcuts\n",
    "                drhsp, status = prob.presolverow(rowtype='G',\n",
    "                                                    origcolind=indices,\n",
    "                                                    origrowcoef=np.ones(len(indices)),\n",
    "                                                    origrhs=1,\n",
    "                                                    maxcoefs=prob.attributes.cols,\n",
    "                                                    colind=mcolsp,\n",
    "                                                    rowcoef=dvalp)\n",
    "\n",
    "                nnz += len(mcolsp)\n",
    "                ncuts += 1\n",
    "\n",
    "                cut_ind.extend(mcolsp) # array which will be filled with the columns of the presolved row\n",
    "                cut_coe.extend(dvalp)  # array which will be filled with the coefficients of the presolved row\n",
    "                cut_rhs.append(drhsp)  # array containing the right hand side elements for the cuts\n",
    "                cut_mstart.append(nnz) # array containing offset into the colind and cutcoef arrays indicating the start of each cut\n",
    "\n",
    "            # add cuts\n",
    "            if ncuts > 0:\n",
    "                # **TO DO** - call prob.addcuts and pass the necessary arguments to add the subtour elimination constraints (list of cuts)\n",
    "                \n",
    "\n",
    "    return (reject, None)"
   ]
  },
  {
   "cell_type": "markdown",
   "metadata": {},
   "source": [
    "Now we will solve the problem with the standard formulation (without subtour elimination constraints), but **adding the callback function** and plotting the solution to validate the approach. \n",
    "\n",
    "Run the code cell, and verify that the optimal solution values remain the same amongst the three different methods of solving the problem, and compare the running times needed to achieve the optimal solution. You may need to debug/correct the callback function definition in the previous code cell."
   ]
  },
  {
   "cell_type": "code",
   "execution_count": null,
   "metadata": {},
   "outputs": [],
   "source": [
    "# FICO Xpress Optimizer - Python Interface\n",
    "\n",
    "import xpress as xp\n",
    "\n",
    "# Create problem\n",
    "p = xp.problem()\n",
    "\n",
    "# Create variables as a square matrix of binary variables. Note\n",
    "# the use of p.addVariables to ensure NumPy uses the Xpress operations for handling these vectors.\n",
    "x = p.addVariables(n,n, vartype=xp.binary, name='x')\n",
    "\n",
    "# Degree constraints\n",
    "p.addConstraint(xp.Sum(x[i,:]) == 1  for i in CITIES)\n",
    "p.addConstraint(xp.Sum(x[:,i]) == 1  for i in CITIES)\n",
    "\n",
    "# Fix diagonals (i.e. city X -> city X) to zero\n",
    "p.addConstraint(x[i,i] == 0 for i in CITIES)\n",
    "\n",
    "# Objective function\n",
    "p.setObjective (xp.Sum((dist * x).flatten()))\n",
    "\n",
    "# Add callback function\n",
    "p.addcbpreintsol(cb_preintsol, n)\n",
    "\n",
    "# Solve the problem and print solution\n",
    "p.optimize()\n",
    "\n",
    "print(p.attributes.solstatus.name)\n",
    "\n",
    "if p.attributes.solstatus not in [xp.SolStatus.OPTIMAL, xp.SolStatus.FEASIBLE]:\n",
    "    print(\"Solve status:\", p.attributes.solvestatus.name)\n",
    "    print(\"Solution status:\", p.attributes.solstatus.name)\n",
    "else:\n",
    "    plot_sol(p)  # plot solution"
   ]
  },
  {
   "cell_type": "markdown",
   "metadata": {},
   "source": [
    "As we can observe, the problem has been solved even faster than using the MTZ formulation, yielding the same solution and objective value in considerably less time, making the problem even more scalable. \n",
    "\n",
    "**BONUS EXERCISE 3.4**: experiment (increase) the number of cities (n) in the cell below and run the previous code cell again to see how high 'n' can go before the problem becomes computationally too expensive (let's say, takes more than 1 minute to solve to proven optimality).\n",
    "\n",
    "Compare with results from MTZ formulation for the same instance sizes."
   ]
  },
  {
   "cell_type": "code",
   "execution_count": null,
   "metadata": {},
   "outputs": [],
   "source": [
    "'''Create random TSP problem data'''\n",
    "n = 17\n",
    "CITIES = range(n)  # set of cities: 0..n-1\n",
    "\n",
    "np.random.seed(0)\n",
    "\n",
    "X = 100 * np.random.rand(n)\n",
    "Y = 100 * np.random.rand(n)\n",
    "\n",
    "XY = (X, Y)\n",
    "\n",
    "# Compute distance matrix\n",
    "dist = np.ceil(np.sqrt ((X.reshape(n,1) - X.reshape(1,n))**2 +\n",
    "                        (Y.reshape(n,1) - Y.reshape(1,n))**2))"
   ]
  },
  {
   "cell_type": "markdown",
   "metadata": {},
   "source": [
    "### Part 3S - Advanced techniques for solving the TSP (SCIP)"
   ]
  },
  {
   "cell_type": "markdown",
   "metadata": {},
   "source": [
    "In this last part, we will solve the [Traveling Salesman Problem](https://en.wikipedia.org/wiki/Travelling_salesman_problem) using different modeling techniques.\n",
    "\n",
    "<i>Note that this is just an academic exercise done for demonstration purposes, with no intention to propose or claim new solution methods for solving the TSP. Moreover, we refer to the state-of-the-art solver for the TSP and other related problems [Concorde TSP solver](https://www.math.uwaterloo.ca/tsp/concorde.html).</i>"
   ]
  },
  {
   "cell_type": "markdown",
   "metadata": {},
   "source": [
    "##### Standard formulation"
   ]
  },
  {
   "cell_type": "markdown",
   "metadata": {},
   "source": [
    "\n",
    "Let's start with the standard formulation, where $x_{ij} \\in \\{0,1\\}, \\forall i,j \\in \\mathcal{N}$ represents if the tour uses the edge $(i,j)$ (i.e. if we go from city $i$ to $j$) in the final solution. An optimal tour can be found by solving:\n",
    "$$\n",
    "\\min \\sum_{i,j \\in \\mathcal{N}} c_{ij} x_{ij}\n",
    "$$\n",
    "\n",
    "subject to:\n",
    "\n",
    "* We have to enter and leave every city, and source node cannot be the destination node for each move: \n",
    "$$\n",
    "\\sum_{j \\in \\mathcal{N}} x_{ij} = 1, \\quad \\forall i \\in \\mathcal{N} \\\\\n",
    "\\sum_{j \\in \\mathcal{N}} x_{ji} = 1, \\quad \\forall i \\in \\mathcal{N} \\\\\n",
    "x_{ii} = 0, \\quad \\forall i \\in \\mathcal{N}\n",
    "$$\n",
    "\n",
    "We overlook subtour elimination constraints for now."
   ]
  },
  {
   "cell_type": "code",
   "execution_count": 41,
   "metadata": {},
   "outputs": [],
   "source": [
    "# SCIP - Python Interface\n",
    "\n",
    "from pyscipopt import Model, quicksum\n",
    "import numpy as np\n",
    "import itertools\n",
    "\n",
    "'''Create random TSP problem data'''\n",
    "n = 15\n",
    "CITIES = range(n)  # set of cities: 0..n-1\n",
    "\n",
    "np.random.seed(0)\n",
    "\n",
    "X = 100 * np.random.rand(n)\n",
    "Y = 100 * np.random.rand(n)\n",
    "\n",
    "XY = (X, Y)\n",
    "\n",
    "# Compute distance matrix\n",
    "dist = np.ceil(np.sqrt ((X.reshape(n,1) - X.reshape(1,n))**2 +\n",
    "                        (Y.reshape(n,1) - Y.reshape(1,n))**2))\n",
    "\n",
    "# Create problem\n",
    "model = Model()\n",
    "\n",
    "# Create variables as a square matrix of binary variables. Note\n",
    "# the use of p.addVariables to ensure NumPy uses the Xpress operations for handling these vectors.\n",
    "x = {}\n",
    "for i in range(n):\n",
    "    for j in range(n):\n",
    "        x[i,j] = model.addVar(vtype=\"B\", name='x[%i,%i]'%(i,j))\n",
    "\n",
    "# Degree constraints\n",
    "for i in CITIES:\n",
    "    model.addCons(quicksum(x[i,j] for j in CITIES) == 1)\n",
    "    model.addCons(quicksum(x[j,i] for j in CITIES) == 1)\n",
    "\n",
    "# Fix diagonals (i.e. city X -> city X) to zero\n",
    "for i in CITIES:\n",
    "    model.addCons(x[i,i] == 0)\n",
    "\n",
    "# Objective function\n",
    "model.setObjective(quicksum(dist[i,j]*x[i,j] for i in range(n) for j in range(n)))\n",
    "\n",
    "model.optimize()"
   ]
  },
  {
   "cell_type": "markdown",
   "metadata": {},
   "source": [
    "Now let's use matplotlib and networkx to visualize the solution for the Xpress interface and check if there are any subtours:"
   ]
  },
  {
   "cell_type": "code",
   "execution_count": null,
   "metadata": {},
   "outputs": [],
   "source": [
    "# Visualize solution using networkx and matplotlib\n",
    "import networkx as nx \n",
    "import matplotlib.pyplot as plt\n",
    "\n",
    "def plot_sol(model):\n",
    "\n",
    "    # collect the edges: if the value of x[i,j] is 1, then the edge (i,j) is in the solution\n",
    "    edges = []\n",
    "    for (i,j) in itertools.permutations(CITIES, 2):\n",
    "        if model.getVal(x[i,j]) > 0.5: # variable is binary so > 0.5 --> is 1\n",
    "            edges.append( (i,j) )\n",
    "\n",
    "    # create dictionary with coordinates for each node to plot the graph \n",
    "    xy = {}\n",
    "    for i in range(n):\n",
    "        xy[i] = (X[i], Y[i])\n",
    "\n",
    "    # make figure look nicer\n",
    "    plt.figure(figsize=(10,6), dpi=100)\n",
    "\n",
    "    # create empty graph\n",
    "    optgraph = nx.Graph()\n",
    "\n",
    "    # add edges\n",
    "    optgraph.add_edges_from(edges)\n",
    "\n",
    "    # draw the nodes, with labels in the position xy (see when we read the instance)\n",
    "    nx.draw(optgraph, node_size=300, pos=xy, with_labels=True, node_color='lightblue')\n",
    "\n",
    "    # show drawing\n",
    "    plt.show()\n",
    "\n",
    "# Plot solution\n",
    "if model.getNSols() == 0:\n",
    "    print(\"No feasible solution found.\")\n",
    "else:\n",
    "    plot_sol(model)  # print solution and cost"
   ]
  },
  {
   "cell_type": "markdown",
   "metadata": {},
   "source": [
    "As you can see, the solution contains subtours, and therefore it is not a valid solution for problem yet. We need to add subtour elimination constraints, that is, prevent each and every possible subtour from ocurring.\n",
    "\n",
    "Let's add the subtour elimination constraints to the problem:\n",
    "\n",
    "$$\n",
    "\\sum_{i,j \\in S} x_{ij} \\leq |S| - 1 \\quad \\forall S \\subsetneq N,\\ |S| \\geq 2\n",
    "$$"
   ]
  },
  {
   "cell_type": "code",
   "execution_count": null,
   "metadata": {},
   "outputs": [],
   "source": [
    "# SCIP - Python Interface\n",
    "\n",
    "model.freeTransform()\n",
    "\n",
    "# Add subtour elimination constraints, solve and print\n",
    "for L in range(2,len(CITIES)):\n",
    "    for subset in itertools.combinations(CITIES, L):\n",
    "        model.addCons(quicksum(x[i,j] for i in subset for j in subset) <= len(subset) - 1)        \n",
    "\n",
    "\n",
    "model.setParam(\"limits/time\", 20)\n",
    "model.optimize()\n",
    "\n",
    "# Plot solution\n",
    "if model.getNSols() == 0:\n",
    "    print(\"No feasible solution found.\")\n",
    "else:\n",
    "    plot_sol(model) "
   ]
  },
  {
   "cell_type": "markdown",
   "metadata": {},
   "source": [
    "The solution is now valid and complete, since an Hamiltonian tour (no subtours) has been formed. However, you could experience that the problem building and solving times are rather high for a TSP with only 15 cities.\n",
    "\n",
    "This is due to the complete enumeration of all possible subtours, whose number grows exponentially with the instance size making the problem creation and solving times lengthy when problems become realistically large."
   ]
  },
  {
   "cell_type": "markdown",
   "metadata": {},
   "source": [
    "##### Formulation using the Miller, Tucker, Zemlin subtour elimination constraints"
   ]
  },
  {
   "cell_type": "markdown",
   "metadata": {},
   "source": [
    "\n",
    "Now we will model the same problem but using the Miller, Tucker, Zemlin subtour elimination constraints, which requires a new set of continuous variables:\n",
    "\n",
    "$t_i$ = step at which node $i$ is visited, $\\forall i = {1,...,|\\mathcal{N}|}$\n",
    "\n",
    "which are used as auxiliary variables for the formulation of subtour elimination constraints. Although a new set of real variables of size $|\\mathcal{N}|$ is introduced, we are able to prevent all subtours by introducing a set of constraints of size $(|\\mathcal{N}|-1)^2$, considerably reducing the problem size and complexity when comparing with the previous formulation:\n",
    "\n",
    "$$\n",
    "\\min \\sum_{i,j \\in \\mathcal{N}} c_{ij} x_{ij}\n",
    "$$\n",
    "\n",
    "subject to:\n",
    "\n",
    "* We have to enter and leave every city, and source node cannot be the destination node for any move: \n",
    "$$\n",
    "\\sum_{j \\in \\mathcal{N}} x_{ij} = 1, \\quad \\forall i \\in \\mathcal{N} \\\\\n",
    "\\sum_{j \\in \\mathcal{N}} x_{ji} = 1, \\quad \\forall i \\in \\mathcal{N} \\\\\n",
    "x_{ii} = 0, \\quad \\forall i \\in \\mathcal{N}\n",
    "$$\n",
    "* Miller, Tucker, Zemlin subtour elimination constraints:\n",
    "$$\n",
    "t_j \\geq t_i + 1 - (n-1)*(1 - x_{ij}), \\forall i,j = {1,...,|\\mathcal{N}|}\n",
    "$$\n",
    "\n",
    "with $n = |\\mathcal{N}|$."
   ]
  },
  {
   "cell_type": "code",
   "execution_count": null,
   "metadata": {},
   "outputs": [],
   "source": [
    "# SCIP - Python Interface\n",
    "\n",
    "from pyscipopt import Model, quicksum\n",
    "import numpy as np\n",
    "\n",
    "from pyscipopt import Model, quicksum\n",
    "import numpy as np\n",
    "\n",
    "# Create problem\n",
    "model = Model()\n",
    "\n",
    "# Create variables as a square matrix of binary variables. Note\n",
    "# the use of p.addVariables to ensure NumPy uses the Xpress operations for handling these vectors.\n",
    "x = {}\n",
    "t = {}\n",
    "for i in range(n):\n",
    "    for j in range(n):\n",
    "        x[i,j] = model.addVar(vtype=\"B\", name='x[%i,%i]'%(i,j))\n",
    "    t[i] = model.addVar(name='t[%i]'%i)\n",
    "\n",
    "# Degree constraints\n",
    "for i in CITIES:\n",
    "    model.addCons(quicksum(x[i,j] for j in CITIES) == 1)\n",
    "    model.addCons(quicksum(x[j,i] for j in CITIES) == 1)\n",
    "\n",
    "# Fix diagonals (i.e. city X -> city X) to zero\n",
    "for i in CITIES:\n",
    "    model.addCons(x[i,i] == 0)\n",
    "\n",
    "# Miller, Tucker, Zemlin subtour elimination constraints\n",
    "for i in range(1,n):\n",
    "    for j in range(1,n):\n",
    "        model.addCons(t[j] >= t[i] + 1 - n*(1 - x[i,j]))\n",
    "\n",
    "# Objective function\n",
    "model.setObjective(quicksum(dist[i,j]*x[i,j] for i in range(n) for j in range(n)))\n",
    "\n",
    "model.optimize()\n",
    "\n",
    "# Plot solution\n",
    "if model.getNSols() == 0:\n",
    "    print(\"No feasible solution found.\")\n",
    "else:\n",
    "    plot_sol(model)  # print solution and cost\n",
    "\n"
   ]
  },
  {
   "cell_type": "markdown",
   "metadata": {},
   "source": [
    "As you can confirm by the graph and solver logs, this formulation yields the same solution as the previous one, but solves the problem much faster."
   ]
  }
 ],
 "metadata": {
  "kernelspec": {
   "display_name": "Python 3",
   "language": "python",
   "name": "python3"
  },
  "language_info": {
   "codemirror_mode": {
    "name": "ipython",
    "version": 3
   },
   "file_extension": ".py",
   "mimetype": "text/x-python",
   "name": "python",
   "nbconvert_exporter": "python",
   "pygments_lexer": "ipython3",
   "version": "3.12.6"
  }
 },
 "nbformat": 4,
 "nbformat_minor": 2
}
