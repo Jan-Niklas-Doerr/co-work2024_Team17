{
 "cells": [
  {
   "cell_type": "markdown",
   "metadata": {},
   "source": [
    "## Tutorial: Basics of MIP Modelling\n",
    "\n",
    "In this tutorial session, we will learn how to use the FICO Xpress and SCIP Python interfaces to efficiently model and solve basic mixed-integer programming problems via a series of in-class exercises.\n",
    "\n",
    "Instructions:\n",
    "- the tutorial is hands-on, with text descriptions, mathematical formulations, and code snippets shown along the notebook to be analyzed, run and understood in the order they appear.\n",
    "- it is divided in 4 parts, which will be solved using the FICO Xpress Python interface. Parts 1S and 2S, at the end of the notebook, correspond to the first two parts but using the SCIP Python interface.\n",
    "  - you are expected to solve, in class, all the assignments marked as **EXERCISE**.\n",
    "\n",
    "Software requirements:\n",
    "- if running in cloud (recommended):\n",
    "  - https://github.com/features/codespaces (recommended)\n",
    "  - https://colab.research.google.com/\n",
    "  - (no Python installation needed, but you need to install \"xpress\", \"PySCIPOpt\" packages, and other packages in the remote machine by running \"!pip install [module]\" - see first code cell)\n",
    "- if run locally (if you are an expert user):\n",
    "  - your favorite IDE that supports Interactive Python Notebooks, such as VS Code, PyCharm, or Jupyter notebook\n",
    "  - Python installation >= 3.9\n",
    "  - Xpress package >= 9.4\n",
    "  - PySCIPOpt package >= 5.1\n",
    "\n",
    "Examples and documentation:\n",
    "* Check the [Xpress Python API reference manual](https://www.fico.com/fico-xpress-optimization/docs/latest/solver/optimizer/python/HTML) and the [Xpress Python examples](https://www.fico.com/fico-xpress-optimization/docs/latest/solver/optimizer/python/HTML/chExamples.html) online, and find a PDF with training slides named \"xpress_python_api.pdf\" in the shared GitHub repo.\n",
    "* SCIP Python interface: https://github.com/scipopt/PySCIPOpt\n",
    "\n",
    "Licensing guidelines:\n",
    "- FICO Xpress Optimizer requires a full license for some of the exercises. You will receive a license file via e-mail, which you should upload into the root directory of your codespace.\n",
    "  - an environment variable named XPAUTH_PATH must be set to (the path to) the license file \"xpauth.xpr\" (automatically done in Codespaces, see code cell below for Google Colab).\n",
    "  - <span style=\"color:red\">the provided license must only be used for the purposes of the co@work summer school</span>. Please join the [FICO Academic Partner Program](https://community.fico.com/s/academic-programs) to access full licenses of Xpress free of charge.\n"
   ]
  },
  {
   "cell_type": "code",
   "execution_count": 6,
   "metadata": {},
   "outputs": [],
   "source": [
    "# Install Python packages (if running in cloud)\n",
    "!pip install xpress PySCIPopt        # NumPy is installed along with xpress\n",
    "\n",
    "# If working in Google Colab, uncomment the following lines to set an environment XPAUTH_PATH variable to the license file (assumes the license file is in the same working directory as the notebook)\n",
    "# import os\n",
    "# os.environ['XPAUTH_PATH'] = 'xpauth.xpr'"
   ]
  },
  {
   "cell_type": "code",
   "execution_count": 5,
   "metadata": {},
   "outputs": [],
   "source": [
    "# To disable warnings regarding the Xpress license, run this code cell\n",
    "import xpress as xp\n",
    "import warnings\n",
    "warnings.simplefilter('ignore', xp.LicenseWarning)"
   ]
  },
  {
   "cell_type": "markdown",
   "metadata": {},
   "source": [
    "### Part 1 - Creating and solving a basic LP (Xpress)"
   ]
  },
  {
   "cell_type": "markdown",
   "metadata": {},
   "source": [
    "Let's start by creating and solving a simple linear program:\n",
    "\n",
    "$$\n",
    "\\begin{array}{lll}\n",
    "  \\min & x + y\\\\\n",
    "  \\textrm{s.t.} & 2x + 3y \\ge 6\\\\\n",
    "                & 4x + 2y \\ge 7\\\\\n",
    "                & x,y \\ge 0\n",
    "\\end{array}\n",
    "$$\n",
    "\n",
    "Analyze and run the code below to become familiar with problem creation, adding variables, contraints and objectives, and solving a problem using the FICO Xpress interface:"
   ]
  },
  {
   "cell_type": "code",
   "execution_count": null,
   "metadata": {},
   "outputs": [],
   "source": [
    "# FICO Xpress Optimizer - Python Interface\n",
    "\n",
    "import xpress as xp\n",
    "\n",
    "# First step is to create a new problem \n",
    "p = xp.problem()\n",
    "\n",
    "# Create and add decision variables directly (always first to be added)\n",
    "x = p.addVariable(name='myvar_1') # variables are continuous and non-negative by default\n",
    "y = p.addVariable(name='myvar_2') # use the vartype argument to define other variable types such as 'vartype=xp.integer' or 'vartype=xp.binary'\n",
    "\n",
    "# The define and add constraints and objective (in no particular order)\n",
    "constr1 = 2*x + 3*y >= 6 # can be constructed using operator overloading\n",
    "p.addConstraint(constr1, 4*x + 2*y >= 7) # constraints can be added by passing an object, a constraint expression, or lists and dictionaries thereof\n",
    "\n",
    "obj = x + y\n",
    "p.setObjective(obj)  # minimization by default\n",
    "\n",
    "# Uncomment the following line if you want to turn off logging from Xpress:\n",
    "# p.controls.outputlog = 0\n",
    "\n",
    "p.optimize() # trigger the Xpress optimizer to solve the problem"
   ]
  },
  {
   "cell_type": "markdown",
   "metadata": {},
   "source": [
    "Now let's query the optimal objective value, and print primal and dual solution values using `problem.getSolution` for the primal solution and `problem.getDual` for the dual solution (dual solutions can only be obtained for linear optimization models). \n",
    "\n",
    "Note that these functions can be called without arguments (to obtain the whole vector), or with a variable/constraint object to get one or more values."
   ]
  },
  {
   "cell_type": "code",
   "execution_count": null,
   "metadata": {},
   "outputs": [],
   "source": [
    "# FICO Xpress Optimizer - Python Interface\n",
    "\n",
    "print(f'Objective value={p.getObjVal()}')\n",
    "\n",
    "print(f'Solution: x={p.getSolution(x)}, y={p.getSolution(y)}')\n",
    "# print(f'solution: x={p.getSolution('myvar_1')}, y={p.getSolution('myvar_2')}') # Same effect with this call that uses variable names instead of objects\n",
    "\n",
    "print(f'Dual: constr1->{p.getDual(constr1)}')"
   ]
  },
  {
   "cell_type": "markdown",
   "metadata": {},
   "source": [
    "**EXERCISE 1**: Add the constraint $x + 2y \\le 2$ to the problem, then optimize the problem again. The problem should now be infeasible.\n",
    "\n",
    "Bonus: after `p.optimize()`, call the [problem.iisall](https://www.fico.com/fico-xpress-optimization/docs/latest/solver/optimizer/python/HTML/problem.iisall.html) function of the Xpress Python interface to verify which constraints and/or variable bounds made the problem infeasible."
   ]
  },
  {
   "cell_type": "code",
   "execution_count": null,
   "metadata": {},
   "outputs": [],
   "source": [
    "# FICO Xpress Python interface (solution)\n",
    "\n"
   ]
  },
  {
   "cell_type": "markdown",
   "metadata": {},
   "source": [
    "### Part 2 - Modeling and solving a Knapsack problem using NumPy (Xpress)"
   ]
  },
  {
   "cell_type": "markdown",
   "metadata": {},
   "source": [
    "Now let's move on to Mixed-Integer Programming: let's formulate and solve a [knapsack problem](https://en.wikipedia.org/wiki/Knapsack_problem) with the following value/weight vectors:\n",
    "\n",
    "$$\n",
    "\\begin{array}{lllrrrrrrr}\n",
    "v& =& (12,&15,& 9,&11,& 8,& 7,&5)\\\\\n",
    "w& =& (13, &18,& 9,& 12,& 8,& 10,& 4)\n",
    "\\end{array}\n",
    "$$\n",
    "\n",
    "and with knapsack capacity $C=40$. The formulation of a knapsack problem is as follows:\n",
    "\n",
    "$$\n",
    "\\begin{array}{lllrrrrrrr}\n",
    "\\max & \\sum_{i=1}^n v_i x_i\\\\\n",
    "\\textrm{s.t.} & \\sum_{i=1}^n w_i x_i \\le C\\\\\n",
    "& x_i \\in \\{0,1\\}, \\forall i=1,\\ldots{},n\n",
    "\\end{array}\n",
    "$$\n",
    "\n",
    "The problem can be modeled as follows using the [xpress.Sum](https://www.fico.com/fico-xpress-optimization/docs/latest/solver/optimizer/python/HTML/xpress.Sum.html) operator for modeling constraints and the objective function:"
   ]
  },
  {
   "cell_type": "code",
   "execution_count": null,
   "metadata": {},
   "outputs": [],
   "source": [
    "# FICO Xpress Optimizer - Python Interface\n",
    "\n",
    "import xpress as xp\n",
    "\n",
    "v = [12,15,9,11,8, 7,5]\n",
    "w = [13,18,9,12,8,10,4]\n",
    "C = 40\n",
    "\n",
    "p = xp.problem()\n",
    "\n",
    "n = len(v)\n",
    "x = [p.addVariable(vartype=xp.binary) for _ in range(n)]  # create a binary variable for each item and store in a list\n",
    "\n",
    "k_con = xp.Sum(w[i]*x[i] for i in range(n)) <= C # method xp.Sum accepts lists containing Xpress objects as argument(s)\n",
    "p.addConstraint(k_con)\n",
    "\n",
    "k_obj = xp.Sum(v[i]*x[i] for i in range(n))\n",
    "p.setObjective(k_obj, sense=xp.maximize) # optimization sense is min by default\n",
    "\n",
    "p.optimize()\n",
    "\n",
    "print(p.getSolution())"
   ]
  },
  {
   "cell_type": "markdown",
   "metadata": {},
   "source": [
    "#### Using NumPy arrays - an example"
   ]
  },
  {
   "cell_type": "markdown",
   "metadata": {},
   "source": [
    "**NumPy** is an essential toolbox for Python users. The Xpress Python interface can handle (multi-)arrays of floats, variables, expressions, constraints as naturally as with lists thereof and leverage the broadcasting features of NumPy arrays. Models [using NumPy arrays](https://www.fico.com/fico-xpress-optimization/docs/latest/solver/optimizer/python/HTML/chNumpy.html) are handled more efficiently by the Xpress Python interface, making the model building time significantly lower for large-scale  problems with a high number of variables and/or constraints.\n",
    "\n",
    "The example below creates a random 20x30 NumPy matrix $A$ and vectors ${\\bf b}$ and ${\\bf c}$, then creates a problem with variables ${\\bf x}$ added as a NumPy array by using [p.addVariables](https://www.fico.com/fico-xpress-optimization/docs/latest/solver/optimizer/python/HTML/problem.addVariables.html), ${\\bf c}$ as objective function coefficient vector and constraints $A{\\bf x} \\le {\\bf b}$ using the [xpress.Dot](https://www.fico.com/fico-xpress-optimization/docs/latest/solver/optimizer/python/HTML/xpress.Dot.html) operator:"
   ]
  },
  {
   "cell_type": "code",
   "execution_count": null,
   "metadata": {},
   "outputs": [],
   "source": [
    "# FICO Xpress Optimizer - Python Interface\n",
    "\n",
    "import xpress as xp\n",
    "import numpy as np\n",
    "\n",
    "n = 30 # number of variables\n",
    "m = 20 # number of constraints\n",
    "\n",
    "A = np.random.random((m,n))\n",
    "b = np.random.random(m)\n",
    "c = np.random.random(n)\n",
    "\n",
    "p = xp.problem()\n",
    "\n",
    "x = p.addVariables(n) # when p.addVariables receives integer arguments, np arrays are created\n",
    "\n",
    "# xp.Dot only works with np arrays (of numbers and/or Xpress objects: expressions and variables)\n",
    "consys = xp.Dot(A, x) <= b\n",
    "p.addConstraint(consys)\n",
    "\n",
    "objective= xp.Dot(c, x)\n",
    "p.setObjective(objective, sense=xp.maximize) # optimization sense is min by default\n",
    "\n",
    "p.optimize()"
   ]
  },
  {
   "cell_type": "markdown",
   "metadata": {},
   "source": [
    "#### Modeling the knapsack problem using NumPy arrays"
   ]
  },
  {
   "cell_type": "markdown",
   "metadata": {},
   "source": [
    "**EXERCISE 2**: Rewrite the knapsack problem using NumPy constructs and the xp.Dot operator in the code cell below, solve it and print the optimal solution vector"
   ]
  },
  {
   "cell_type": "code",
   "execution_count": null,
   "metadata": {},
   "outputs": [],
   "source": [
    "# FICO Xpress Optimizer - Python Interface (solution)\n",
    "\n"
   ]
  },
  {
   "cell_type": "markdown",
   "metadata": {},
   "source": [
    "### Coffee break"
   ]
  },
  {
   "cell_type": "markdown",
   "metadata": {},
   "source": [
    "### Part 3 - Reformulating a quadratic problem (MIQP) as a MIP (Xpress)"
   ]
  },
  {
   "cell_type": "markdown",
   "metadata": {},
   "source": [
    "We'll implement a simple reformulation of a Binary Box-constrained Quadratic Programming problem:\n",
    "\n",
    "$$\n",
    "\\begin{array}{ll}\n",
    "\\min & x^T Q x + c^T x\\\\\n",
    "\\textrm{s.t.} & x \\in \\{0,1\\}^n\n",
    "\\end{array}\n",
    "$$\n",
    "\n",
    "This problem has a quadratic objective function and all variables are binary; furthermore, the only constraints are the implicit bounds on binary variables, i.e. $\\{0,1\\}$. The problem can be written in algebraic form as follows:\n",
    "\n",
    "$$\n",
    "\\begin{array}{ll}\n",
    "\\min &\\sum_{i=1}^n\\sum_{j=1}^n q_{ij} x_i x_j + \\sum_i c_i x_i\\\\\n",
    "\\textrm{s.t.} & x_i\\in \\{0,1\\} & \\forall i=1,2,\\ldots, n.\n",
    "\\end{array}\n",
    "$$\n",
    "\n",
    "where $Q$ is a symmetric matrix. Let's try an example:"
   ]
  },
  {
   "cell_type": "code",
   "execution_count": null,
   "metadata": {},
   "outputs": [],
   "source": [
    "# FICO Xpress Optimizer - Python Interface\n",
    "\n",
    "import xpress as xp\n",
    "\n",
    "np.random.seed(1234567)\n",
    "\n",
    "n = 30\n",
    "Q = np.random.random((n,n)) - .5\n",
    "c = np.random.random(n) - .5\n",
    "\n",
    "p = xp.problem()\n",
    "\n",
    "x = p.addVariables(n, vartype=xp.binary)\n",
    "\n",
    "p.setObjective(xp.Dot(x,Q,x) + xp.Dot(c,x))\n",
    "\n",
    "p.optimize()"
   ]
  },
  {
   "cell_type": "markdown",
   "metadata": {},
   "source": [
    "The problem can be solved as a MIP after a *reformulation* that does the following:\n",
    "\n",
    "* Creates a (binary) variable $y_{ij}$ for each product $x_i x_j$;\n",
    "* For each variable $y_{ij}$, it adds the following constraints linking $y$ with $x$ variables:\n",
    "\n",
    "$$\n",
    "\\begin{array}{lll}\n",
    "y_{ij} &\\le& x_i \\\\\n",
    "y_{ij} &\\le& x_j \\\\\n",
    "y_{ij} &\\ge& x_i + x_j - 1\n",
    "\\end{array}\n",
    "$$\n",
    "\n",
    "After this reformulation, the problem becomes a MIP, as follows:\n",
    "\n",
    "$$\n",
    "\\begin{array}{ll}\n",
    "\\min & \\sum_{i=1}^n \\sum_{j=1}^n q_{ij} y_{ij} + \\sum_{i=1}^n c_i x_i\\\\\n",
    "\\textrm{s.t.} &y_{ij} \\le x_i  &\\forall i,j\\\\\n",
    "&y_{ij} \\le x_j  &\\forall i,j\\\\\n",
    "&y_{ij} \\ge x_i + x_j - 1 &\\forall i,j\\\\\n",
    "&x_i \\in \\{0,1\\} \\forall i=1,2,\\ldots,n\\\\\n",
    "&y_{ij} \\in \\{0,1\\} \\forall i,j=1,2,\\ldots,n\\\\\n",
    "\\end{array}\n",
    "$$\n",
    "\n",
    "**EXERCISE 3**: implement the reformulation above explicitly by introducing the variables $y_{ij}$, the new contraints and a modified objective function in the TO DO section below"
   ]
  },
  {
   "cell_type": "code",
   "execution_count": null,
   "metadata": {},
   "outputs": [],
   "source": [
    "# FICO Xpress Optimizer - Python Interface (solution)\n",
    "\n",
    "import xpress as xp\n",
    "\n",
    "np.random.seed(1234567)\n",
    "\n",
    "n = 30\n",
    "Q = np.random.random((n,n)) - 0.5\n",
    "c = np.random.random(n) - 0.5\n",
    "\n",
    "p = xp.problem()\n",
    "\n",
    "x = p.addVariables(n, vartype=xp.binary)\n",
    "\n",
    "# TO DO - add dec. vars, constraints and objective function\n",
    "\n",
    "\n",
    "p.optimize()"
   ]
  },
  {
   "cell_type": "markdown",
   "metadata": {},
   "source": [
    "### Part 4 - Modeling and solving an electricity generation problem (Xpress)"
   ]
  },
  {
   "cell_type": "markdown",
   "metadata": {},
   "source": [
    "In this part, we will model and solve an electricity generation problem from [Garver (1963)](https://ieeexplore.ieee.org/document/4501405) found in real power markets:\n",
    "\n",
    "Four types of power generators are available to meet daily electricity demand and a security reserve of up to 20% above. Each type of generator has a set minimum and maximum power output.\n",
    "A generator can only be started or stopped at the beginning of a time period. The objective is to determine which generators should be used, and at which power level, in each period so that total daily cost is minimized.\n",
    "\n",
    "Three arrays of binary variables are required to determine when to 'start' and 'stop' generators, and decide which ones are set to 'work' in each time period. Another set of real variables are introduced to represent the additonal energy production ('padd') of each working unit type above its minimum output level. Variable 'start' is the difference between 'work' in a time period and 'work' in the preceding period, and 'stop' is the difference between the previous time period and the current one.\n",
    "\n",
    "This unit commitment problem can be mathematically formulated as follows:\n",
    "$$\n",
    "\\begin{align*}\n",
    "\\min & \\quad \\sum_{u \\in \\mathcal{U}} \\sum_{t \\in \\mathcal{T}} C_{S_u}^{\\rm start} \\cdot start_{u,t} + L_t \\cdot (C_{S_u}^{\\rm min} \\cdot work_{u,t} + C_{S_u}^{\\rm add} \\cdot padd_{u,t}) \n",
    "+ \\sum_{u \\in \\mathcal{U}} \\sum_{t \\in \\mathcal{T}} stop_{u,t} \\cdot PEN \\\\\n",
    "\n",
    "\\hbox{subject to:} \\\\\n",
    "& \\hbox{If generator starts in period:} \\\\\n",
    "& \\qquad start_{u,t}  \\geq work_{u,t}  - work_{u,n} , \\qquad \\forall u \\in U, \\forall t \\in \\mathcal{T}, n = (NT+t-1) \\hbox{ \\% } NT \\\\\n",
    "& \\qquad start_{u,t}  \\leq work_{u,t}  , \\qquad \\forall u \\in \\mathcal{U}, \\forall t \\in \\mathcal{T} \\\\\n",
    "& \\hbox{If generator stops in period:} \\\\\n",
    "& \\qquad stop_{u,t}  \\geq work_{u,n}  - work_{u,t} , \\qquad \\forall u \\in \\mathcal{U}, \\forall t \\in \\mathcal{T}, n = (NT+t-1) \\hbox{ \\% } NT \\\\\n",
    "& \\qquad stop_{u,t}  \\leq 1 - work_{u,t}, \\qquad \\forall u \\in \\mathcal{U}, \\forall t \\in \\mathcal{T} \\\\\n",
    "& \\hbox{Limit on power production above minimum level:} \\\\\n",
    "& \\qquad padd_{u,t}\\leq (P_{S_u}^{\\rm max}-P_{S_u}^{\\rm min}) \\cdot work_{u,t}, \\qquad \\forall u \\in \\mathcal{U}, \\forall t \\in \\mathcal{T} \\\\\n",
    "& \\hbox{Satisfy daily electricity demand:} \\\\\n",
    "& \\qquad \\sum_{u \\in \\mathcal{U}} P_{S_u}^{\\rm min} \\cdot work_{u,t} +  padd_{u,t} \\geq D_t, \\qquad \\forall t \\in \\mathcal{T} \\\\\n",
    "& \\hbox{Ensure security reserve of 20\\%:} \\\\\n",
    "& \\qquad \\sum_{u \\in \\mathcal{U}} P_{S_u}^{\\rm max} \\cdot work_{u,t} \\geq 1.20 \\cdot D_t, \\qquad \\forall t \\in \\mathcal{T} \\\\\n",
    "\\end{align*}\n",
    "$$\n",
    "\n",
    "Where:\n",
    "* $\\mathcal{T}$ = set of time periods\n",
    "* $NT$ = number of time periods ($NT = |\\mathcal{T}|$)\n",
    "* $\\mathcal{S}$ = set of generator types\n",
    "* $A_s$ = available number of type $s$ generators\n",
    "* $\\mathcal{U}$ = set of unit generators to be committed ($|\\mathcal{U}| = \\sum_{s \\in \\mathcal{S}} A_s$)\n",
    "* $L_t$ = length of time period $t$\n",
    "* $D_t$ = demand in time period $t$\n",
    "* $S_u$ = type of generator $u$\n",
    "* $C_{s}^{\\rm start}$ = start-up cost of generator type $s$\n",
    "* $C_{s}^{\\rm min}$ = hourly cost of operating generator $s$ at minimum output\n",
    "* $C_{s}^{\\rm add}$ = cost/hour/MW of prod. above min. level\n",
    "* $P_{s}^{\\rm min}$,$P_{s}^{\\rm max}$ = minimum and maximum output of a generator type $s$\n",
    "* $PEN$ = penalty to ensure that stop variables are 0 when not needed\n",
    "\n",
    "The decision variables are:\n",
    "* $start_{u,t}$ = 1 if generator $u$ is started in period $t$, 0 otherwise\n",
    "* $stop_{u,t}$ = 1 if generator $u$ is stopped in period $t$, 0 otherwise\n",
    "* $work_{u,t}$ = 1 if generator $u$ is working during period $t$, 0 otherwise\n",
    "* $padd_{u,t}$ = production level (MW) of generator $u$ above the minimum level $P_{S_u}^{\\rm min}$ in period $t$\n",
    "\n",
    "**EXERCISE 4.1**: Analyze the problem description and formulation, and fill in the five \"TO DO\" sections below to complete the modelling of the above formulation and print the results using the Xpress Python interface."
   ]
  },
  {
   "cell_type": "code",
   "execution_count": null,
   "metadata": {},
   "outputs": [],
   "source": [
    "# FICO Xpress Optimizer - Python Interface\n",
    "\n",
    "import xpress as xp\n",
    "\n",
    "# Time periods\n",
    "LEN = [6, 3, 3, 2, 4, 4, 2]\n",
    "DEM = [12000, 32000, 25000, 36000, 25000, 30000, 18000]\n",
    "\n",
    "# Power plants\n",
    "PMIN = [750, 1000, 1200, 1800]      # minimum output (MW) per generator type\n",
    "PMAX = [1750, 1500, 2000, 3500]     # maximum output (MW) per generator type\n",
    "CSTART = [5000, 1600, 2400, 1200]   # start-up cost () per generator type\n",
    "CMIN = [2250, 1800, 3750, 4800]     # hourly cost of operating generator type at minimum output (see PMIN)\n",
    "CADD = [2.7, 2.2, 1.8, 3.8]         # cost/hour/MW of prod. above min. level per generator type\n",
    "AVAIL = [10, 4, 8, 3]               # number of units per type\n",
    "\n",
    "NT = 7\n",
    "PERIODS = range(NT)         # Time periods\n",
    "TYPES = range(4)            # Power generator types\n",
    "UNITS = range(sum(AVAIL))   # Power generation units\n",
    "MAPU = [i for i in TYPES for p in range(AVAIL[i])]      # Associating units with types\n",
    "\n",
    "# Create problem\n",
    "p = xp.problem(\"Unit commitment\")\n",
    "\n",
    "# Create decision variables\n",
    "start = p.addVariables(UNITS, PERIODS, vartype=xp.binary, name='start')\n",
    "stop = p.addVariables(UNITS, PERIODS, vartype=xp.binary, name='stop')\n",
    "work = p.addVariables(UNITS, PERIODS, vartype=xp.binary, name='work')\n",
    "padd = p.addVariables(UNITS, PERIODS, name='padd')\n",
    "\n",
    "# If generator starts in period\n",
    "p.addConstraint(start[u,t] >= work[u,t] - work[u,(NT+t-1) % NT] for u in UNITS for t in PERIODS)\n",
    "p.addConstraint(start[u,t] <= work[u,t]  for u in UNITS for t in PERIODS)\n",
    "\n",
    "# If generator stop before period\n",
    "p.addConstraint(stop[u,t] >= work[u,(NT+t-1) % NT] - work[u,t] for u in UNITS for t in PERIODS)\n",
    "p.addConstraint(stop[u,t] <= 1 - work[u,t] for u in UNITS for t in PERIODS)\n",
    "\n",
    "# **TO DO** Limit on power production above minimum level\n",
    "\n",
    "# **TO DO** Satisfy demands\n",
    "\n",
    "# **TO DO** Security reserve of 20%\n",
    "\n",
    "# **TO DO** Create and add the objective function of the problem (hint: compute 'daily cost' and 'penalty' separately)\n",
    "\n",
    "# **TO DO** Optimize the problem and print the daily cost, penalty and total objective value"
   ]
  },
  {
   "cell_type": "markdown",
   "metadata": {},
   "source": [
    "Now let's print the solution in a user-friendly way:"
   ]
  },
  {
   "cell_type": "code",
   "execution_count": null,
   "metadata": {},
   "outputs": [],
   "source": [
    "# FICO Xpress Optimizer - Python Interface\n",
    "\n",
    "# Display solution\n",
    "def print_sol(prob):\n",
    "    ct = 0\n",
    "    print(f\"Time period          \", end=\"\")\n",
    "    for t in PERIODS:\n",
    "        print('{:5d}-{:2}'.format(ct,ct+LEN[t]), end=\"\")\n",
    "        ct += LEN[t]\n",
    "\n",
    "    for u in UNITS:\n",
    "        print(\"\\n\",f\"\\nUnit {u+1} Working      \", end=\"\")\n",
    "        for t in PERIODS:\n",
    "            print(\"     off\" if prob.getSolution(work[u,t]) == 0 else \"      on\", end=\"\")\n",
    "        print(\"\\n       Status change\", end=\"\")\n",
    "        for t in PERIODS:\n",
    "            if prob.getSolution(stop[u,t]) > 0.5: print(\"    stop\", end=\"\")\n",
    "            else:\n",
    "                if prob.getSolution(start[u,t]) > 0.5: print(\"    start\", end=\"\")\n",
    "                else: print(\"       -\", end=\"\")\n",
    "        print(\"\\n       Total output \", end=\"\")\n",
    "        for t in PERIODS:\n",
    "            print('{:8d}'.format(round(prob.getSolution(PMIN[MAPU[u]]*work[u,t] + padd[u,t]))), end=\"\")\n",
    "        print(\"\\n       of which add.\", end=\"\")\n",
    "        for t in PERIODS:\n",
    "            print('{:8d}'.format(round(prob.getSolution(padd[u,t]))), end=\"\")\n",
    "\n",
    "print_sol(p)"
   ]
  },
  {
   "cell_type": "markdown",
   "metadata": {},
   "source": [
    "##### Bonus part: Adding indicator constraints"
   ]
  },
  {
   "cell_type": "markdown",
   "metadata": {},
   "source": [
    "In real-world applications, generators often must remain in a certain state after they have been switched to that state, i.e. if a generator is turned ON/OFF, it must remain in that state for at least $ON_s^{\\rm min}$/$OFF_s^{\\rm min}$ periods, respectively. This type of constraints are known as **indicator constraints** as their application depends on the value of a binary variable, called the 'indicator'. \n",
    "\n",
    "The indicator constraints can be formulated as follows:\n",
    "\n",
    "$$\n",
    "\\begin{align*}\n",
    "& \\hbox{Can only switch OFF at least $ON_s^{\\rm min}$ periods after it has been turned ON:} \\\\\n",
    "& \\qquad \\sum_t^{t+ON_s^{\\rm min}} stop_{u,n}  \\leq 0, \\qquad \\forall u \\in \\mathcal{U}, \\forall t \\in \\mathcal{T}: start_{u,t} = 1, n = t \\hbox{ \\% } NT \\\\\n",
    "& \\hbox{Can only switch ON at least $OFF_s^{\\rm min}$ periods after it has been turned OFF:} \\\\\n",
    "& \\qquad \\sum_t^{t+OFF_s^{\\rm min}} start_{u,n}  \\leq 0, \\qquad \\forall u \\in \\mathcal{U}, \\forall t \\in \\mathcal{T}: stop_{u,t} = 1, n = t \\hbox{ \\% } NT \\\\\n",
    "\\end{align*}\n",
    "$$\n",
    "\n",
    "where $ON_s^{\\rm min}$,$OFF_s^{\\rm min}$ = minimum time intervals a generator type $s$ must be ON/OFF once it has switched to that state, respectively.\n",
    "\n",
    "**Bonus Exercise 4.2**: Add the indicator constraints to the model in the code cell below, run the cell and compare the outcomes. What is the extra cost introduced by the loss of flexibility ? Also confirm that, contrary to the previous run, units are not allowed to be turned ON and then OFF within 3 time periods by printing the solution.\n",
    "\n",
    "Hint: use the [problem.addIndicator()](https://www.fico.com/fico-xpress-optimization/docs/latest/solver/optimizer/python/HTML/chModeling.html?scroll=secModelingIndicator) method to add the indicator constraints."
   ]
  },
  {
   "cell_type": "code",
   "execution_count": null,
   "metadata": {},
   "outputs": [],
   "source": [
    "# FICO Xpress Optimizer - Python Interface\n",
    "\n",
    "# Minimum time \n",
    "ONMIN = [3, 3, 3, 3]                # minimum time intervals a generator type $s$ must be ON once switched to that state\n",
    "DWMIN = [3, 3, 3, 3]                # minimum time intervals a generator type $s$ must be OFF once switched to that state\n",
    "\n",
    "# **TO DO** Insert the indicator constraints here\n",
    "\n",
    "# **TO DO** Optimize the problem and print the daily cost, penalty and total objective value\n",
    "\n",
    "print_sol(p)"
   ]
  },
  {
   "cell_type": "markdown",
   "metadata": {},
   "source": [
    "### Part 1S - Creating and solving a basic LP (SCIP)"
   ]
  },
  {
   "cell_type": "markdown",
   "metadata": {},
   "source": [
    "Let's start by creating and solving a simple linear program:\n",
    "\n",
    "$$\n",
    "\\begin{array}{lll}\n",
    "  \\min & x + y\\\\\n",
    "  \\textrm{s.t.} & 2x + 3y \\ge 6\\\\\n",
    "                & 4x + 2y \\ge 7\\\\\n",
    "                & x,y \\ge 0\n",
    "\\end{array}\n",
    "$$\n",
    "\n",
    "Analyze and run the code below to become familiar with problem creation, adding variables, contraints and objectives, and solving a problem using the SCIP interface:"
   ]
  },
  {
   "cell_type": "code",
   "execution_count": null,
   "metadata": {},
   "outputs": [],
   "source": [
    "# SCIP - Python Interface\n",
    "\n",
    "from pyscipopt import Model\n",
    "\n",
    "# First step is to create a new problem \n",
    "model = Model()\n",
    "\n",
    "# Create and add decision variables directly (always first to be added)\n",
    "x = model.addVar(name='myvar_1') # variables are continuous and non-negative by default\n",
    "y = model.addVar(name='myvar_2') # use the vartype argument to define other variable types such as 'vtype=\"Integer\"' or 'vtype=\"Binary\"'\n",
    "\n",
    "# Then constraints and objective (in no order)\n",
    "constr1 = model.addCons(2*x + 3*y >= 6) # can be constructed using operator overloading\n",
    "constr2 = model.addCons(4*x + 2*y >= 7)\n",
    "\n",
    "obj = x + y\n",
    "model.setObjective(obj)  # minimization by default\n",
    "\n",
    "# Uncomment the following line if you want to turn off logging from PySCIPOpt:\n",
    "model.hideOutput(False)\n",
    "\n",
    "model.optimize() # trigger SCIP to solve the problem"
   ]
  },
  {
   "cell_type": "markdown",
   "metadata": {},
   "source": [
    "Now let's query the optimal objective value, and print primal and dual solution values using `model.getVal` for the primal solution and `model.getDualSolVal` for the dual solution (dual solutions can only be obtained for linear optimization models). \n",
    "\n",
    "Note that these functions can be called without arguments (to obtain the whole vector), or with a variable/constraint object to get one or more values."
   ]
  },
  {
   "cell_type": "code",
   "execution_count": null,
   "metadata": {},
   "outputs": [],
   "source": [
    "# SCIP - Python Interface\n",
    "\n",
    "print(f'Objective value={model.getObjVal()}')\n",
    "\n",
    "print(f'Solution: x={model.getVal(x)}, y={model.getVal(y)}')\n",
    "\n",
    "print(f'Dual: constr1->{model.getDualSolVal(constr1)}, constr2->{model.getDualSolVal(constr2)}')"
   ]
  },
  {
   "cell_type": "markdown",
   "metadata": {},
   "source": [
    "### Part 2S - Modeling and solving a Knapsack problem (SCIP)"
   ]
  },
  {
   "cell_type": "markdown",
   "metadata": {},
   "source": [
    "Now let's move on to Mixed-Integer Programming: let's formulate and solve a [knapsack problem](https://en.wikipedia.org/wiki/Knapsack_problem) with the following value/weight vectors:\n",
    "\n",
    "$$\n",
    "\\begin{array}{lllrrrrrrr}\n",
    "v& =& (12,&15,& 9,&11,& 8,& 7,&5)\\\\\n",
    "w& =& (13, &18,& 9,& 12,& 8,& 10,& 4)\n",
    "\\end{array}\n",
    "$$\n",
    "\n",
    "and with knapsack capacity $C=40$. The formulation of a knapsack problem is as follows:\n",
    "\n",
    "$$\n",
    "\\begin{array}{lllrrrrrrr}\n",
    "\\max & \\sum_{i=1}^n v_i x_i\\\\\n",
    "\\textrm{s.t.} & \\sum_{i=1}^n w_i x_i \\le C\\\\\n",
    "& x_i \\in \\{0,1\\}, \\forall i=1,\\ldots{},n\n",
    "\\end{array}\n",
    "$$"
   ]
  },
  {
   "cell_type": "code",
   "execution_count": null,
   "metadata": {},
   "outputs": [],
   "source": [
    "# SCIP - Python Interface\n",
    "\n",
    "v = [12,15,9,11,8, 7,5]\n",
    "w = [13,18,9,12,8,10,4]\n",
    "C = 40\n",
    "\n",
    "n = len(v)\n",
    "\n",
    "from pyscipopt import Model, quicksum\n",
    "\n",
    "model = Model()\n",
    "\n",
    "# it is possible to create variables inline, but usually a dictionary is used\n",
    "x = {}\n",
    "for i in range(n):\n",
    "    x[i] = model.addVar(vtype=\"B\") # B - binary\n",
    "\n",
    "# add the constraint and objective function here\n",
    "k_con = quicksum(w[i]*x[i] for i in range(n)) <= C\n",
    "model.addCons(k_con)\n",
    "\n",
    "k_obj = quicksum(v[i]*x[i] for i in range(n))\n",
    "model.setObjective(k_obj, sense=\"maximize\")\n",
    "\n",
    "model.optimize()\n",
    "\n",
    "print(model.getBestSol())"
   ]
  }
 ],
 "metadata": {
  "kernelspec": {
   "display_name": "Python 3",
   "language": "python",
   "name": "python3"
  },
  "language_info": {
   "codemirror_mode": {
    "name": "ipython",
    "version": 3
   },
   "file_extension": ".py",
   "mimetype": "text/x-python",
   "name": "python",
   "nbconvert_exporter": "python",
   "pygments_lexer": "ipython3",
   "version": "3.12.6"
  }
 },
 "nbformat": 4,
 "nbformat_minor": 2
}
